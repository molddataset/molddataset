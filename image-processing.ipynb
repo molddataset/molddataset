{
 "cells": [
  {
   "cell_type": "markdown",
   "id": "e256068a",
   "metadata": {},
   "source": [
    "<h1 style=\"color: orange; font-size: 48px;\">Mold Dataset</h1>\n",
    "<hr>\n"
   ]
  },
  {
   "cell_type": "markdown",
   "id": "78495345",
   "metadata": {},
   "source": [
    " <font color='orange'>1. Librerías necesarias</font>"
   ]
  },
  {
   "cell_type": "code",
   "execution_count": 8,
   "id": "48c989d5",
   "metadata": {},
   "outputs": [],
   "source": [
    "import os\n",
    "import sys\n",
    "import cv2\n",
    "import numpy as np\n",
    "import random\n",
    "import shutil\n",
    "import pandas as pd\n",
    "import matplotlib.pyplot as plt\n",
    "from sklearn.cluster import KMeans\n",
    "from ultralytics import YOLO\n",
    "import albumentations as A\n",
    "##from segment_anything import sam_model_registry, SamPredictor\n"
   ]
  },
  {
   "cell_type": "markdown",
   "id": "aa3d5660",
   "metadata": {},
   "source": [
    " <font color='orange'>2. Visualización inicial del dataset y muestras</font>"
   ]
  },
  {
   "cell_type": "code",
   "execution_count": null,
   "id": "b8da994f",
   "metadata": {},
   "outputs": [],
   "source": [
    "### Listado de imágenes, viusualizamos y cargamos las imágenes originales de muestra. \n",
    "## Para no cargar todo el dataset, se pueden cargar muetsras de prueba.\n",
    "\n",
    "# Ruta al directorio con imágenes\n",
    "directorio = './' \n",
    "\n",
    "# Lista de imágenes\n",
    "imagenes = [f for f in os.listdir(directorio) if f.endswith(('.JPG'))]\n",
    "\n",
    "# Cargar y visualización\n",
    "for nombre_archivo in imagenes:\n",
    "    ruta_imagen = os.path.join(directorio, nombre_archivo)\n",
    "    imagen = cv2.imread(ruta_imagen)\n",
    "    \n",
    "    if imagen is not None:\n",
    "        imagen_rgb = cv2.cvtColor(imagen, cv2.COLOR_BGR2RGB)  \n",
    "        plt.imshow(imagen_rgb)\n",
    "        plt.title(nombre_archivo)\n",
    "        plt.axis('off')\n",
    "        plt.show()\n",
    "    else:\n",
    "        print(f\"Error: {nombre_archivo}\")\n"
   ]
  },
  {
   "cell_type": "markdown",
   "id": "6df8b8ef",
   "metadata": {},
   "source": [
    " <font color='orange'>3. Pipeline de mejora de imágenes y preprocesado</font>"
   ]
  },
  {
   "cell_type": "code",
   "execution_count": null,
   "id": "8e68841a",
   "metadata": {},
   "outputs": [],
   "source": [
    "## Pasos para la mejora de imágenes\n",
    "# Filtro de paso alto\n",
    "def high_pass_filter(image):\n",
    "    kernel = np.array([[-1, -1, -1],\n",
    "                       [-1,  8, -1],\n",
    "                       [-1, -1, -1]])\n",
    "    image_hp = cv2.filter2D(image, -1, kernel)\n",
    "    image_sharp = cv2.add(image, image_hp)\n",
    "    return np.clip(image_sharp, 0, 255).astype(np.uint8)\n",
    "\n",
    "#Creamos y movemos directorios\n",
    "directorio = './Dataset'\n",
    "carpeta_salida = './procesadas'\n",
    "os.makedirs(carpeta_salida, exist_ok=True)\n",
    "\n",
    "# Lista de imágenes .JPG\n",
    "imagenes = [f for f in os.listdir(directorio) if f.lower().endswith('.JPG')]\n",
    "\n",
    "for nombre_archivo in imagenes:\n",
    "    ruta_imagen = os.path.join(directorio, nombre_archivo)\n",
    "    imagen = cv2.imread(ruta_imagen)\n",
    "    \n",
    "    if imagen is not None:\n",
    "        lab = cv2.cvtColor(imagen, cv2.COLOR_BGR2LAB)\n",
    "        l, a, b = cv2.split(lab)\n",
    "\n",
    "        clahe = cv2.createCLAHE(clipLimit=2.0, tileGridSize=(8, 8))\n",
    "        l_clahe = clahe.apply(l)\n",
    "        l_sumado = cv2.add(l_clahe, 35)\n",
    "\n",
    "        lab_final = cv2.merge((l_sumado, a, b))\n",
    "        imagen_rgb = cv2.cvtColor(lab_final, cv2.COLOR_LAB2RGB)\n",
    "\n",
    "        imagen_paso_alto = high_pass_filter(imagen_rgb)\n",
    "\n",
    "        salida_path = os.path.join(carpeta_salida, f'procesada_{nombre_archivo}')\n",
    "        cv2.imwrite(salida_path, cv2.cvtColor(imagen_paso_alto, cv2.COLOR_RGB2BGR))\n",
    "    else:\n",
    "        print(f\"Error: {nombre_archivo}\")\n"
   ]
  },
  {
   "cell_type": "markdown",
   "id": "ac9b9fa7",
   "metadata": {},
   "source": [
    " <font color='orange'>4. Aplicación de técnica de data Augmentation</font>"
   ]
  },
  {
   "cell_type": "code",
   "execution_count": null,
   "id": "2578a346",
   "metadata": {},
   "outputs": [],
   "source": [
    "#Fase de data augmentation para crear más muestras\n",
    "\n",
    "# Manipulación de carpetas\n",
    "entrada = './procesadas'  \n",
    "salida = './aumentadas/' \n",
    "os.makedirs(salida, exist_ok=True)\n",
    "\n",
    "# Transformaciones empleadas finales\n",
    "transformaciones = [\n",
    "    (\"1\", lambda: A.HorizontalFlip(p=1)),\n",
    "    (\"2\", lambda: A.RandomBrightnessContrast(p=1)),\n",
    "    (\"3\", lambda: A.Rotate(limit=random.randint(10, 90), p=1)),\n",
    "    (\"4\", lambda: A.GaussNoise(p=1)),\n",
    "    (\"5\", lambda: A.Blur(blur_limit=3, p=1)),\n",
    "    (\"6\", lambda: A.HueSaturationValue(p=1)),\n",
    "    (\"7\", lambda: A.Transpose(p=1)),\n",
    "    (\"8\", lambda: A.ShiftScaleRotate(shift_limit=0.05, scale_limit=0.1, rotate_limit=15, p=1)),\n",
    "    (\"9\", lambda: A.ToGray(p=1)),\n",
    "    (\"10\", lambda: A.RandomGamma(gamma_limit=(80, 120), p=1)),\n",
    "]\n",
    "\n",
    "# Imágenes .JPG\n",
    "imagenes = [f for f in os.listdir(entrada) if f.lower().endswith('.jpg')]\n",
    "\n",
    "# Se eligen aleatoriamente un 50% de las imágenes\n",
    "cantidad = len(imagenes) // 2\n",
    "seleccionadas = random.sample(imagenes, cantidad)\n",
    "\n",
    "for nombre in seleccionadas:\n",
    "    ruta_imagen = os.path.join(entrada, nombre)\n",
    "    imagen = cv2.imread(ruta_imagen)\n",
    "\n",
    "    if imagen is not None:\n",
    "        imagen_rgb = cv2.cvtColor(imagen, cv2.COLOR_BGR2RGB)\n",
    "\n",
    "        # Se selecciona una ransformación aleatoria\n",
    "        nombre_transf, fn_transformacion = random.choice(transformaciones)\n",
    "        transformacion = fn_transformacion()\n",
    "        augmentada = transformacion(image=imagen_rgb)['image']\n",
    "        augmentada_bgr = cv2.cvtColor(augmentada, cv2.COLOR_RGB2BGR)\n",
    "\n",
    "        nombre_salida = f\"{os.path.splitext(nombre)[0]}_aug{nombre_transf}.jpg\"\n",
    "        ruta_salida = os.path.join(salida, nombre_salida)\n",
    "        cv2.imwrite(ruta_salida, augmentada_bgr)\n",
    "\n",
    "        print(f\"[OK] {nombre} -> {nombre_salida}\")\n",
    "    else:\n",
    "        print(f\"Error: {nombre}\")"
   ]
  },
  {
   "cell_type": "code",
   "execution_count": null,
   "id": "216b09ba",
   "metadata": {},
   "outputs": [],
   "source": [
    "#Copiamos y movemos carpetas para tenerl el dataset final\n",
    "carpeta_dataset = './procesadas'\n",
    "carpeta_aumentadas = './aumentadas'\n",
    "carpeta_destino = './dataset_procesado'\n",
    "os.makedirs(carpeta_destino, exist_ok=True)\n",
    "\n",
    "#Copiar imágenes desde una carpeta origen a destino\n",
    "def copiar_imagenes(origen, destino):\n",
    "    for nombre_archivo in os.listdir(origen):\n",
    "        if nombre_archivo.lower().endswith(('.jpg', '.jpeg', '.png')):\n",
    "            ruta_origen = os.path.join(origen, nombre_archivo)\n",
    "            ruta_destino = os.path.join(destino, nombre_archivo)\n",
    "\n",
    "            # Rrenombrar si ya existe\n",
    "            if os.path.exists(ruta_destino):\n",
    "                nombre_base, extension = os.path.splitext(nombre_archivo)\n",
    "                contador = 1\n",
    "                while True:\n",
    "                    nuevo_nombre = f\"{nombre_base}_{contador}{extension}\"\n",
    "                    nueva_ruta_destino = os.path.join(destino, nuevo_nombre)\n",
    "                    if not os.path.exists(nueva_ruta_destino):\n",
    "                        ruta_destino = nueva_ruta_destino\n",
    "                        break\n",
    "                    contador += 1\n",
    "\n",
    "            shutil.copy2(ruta_origen, ruta_destino)\n",
    "\n",
    "# Copiar imágenes de ambas carpetas\n",
    "copiar_imagenes(carpeta_dataset, carpeta_destino)\n",
    "copiar_imagenes(carpeta_aumentadas, carpeta_destino)\n",
    "\n",
    "print(\"Copia completada\")\n"
   ]
  }
 ],
 "metadata": {
  "kernelspec": {
   "display_name": "Python 3",
   "language": "python",
   "name": "python3"
  },
  "language_info": {
   "codemirror_mode": {
    "name": "ipython",
    "version": 3
   },
   "file_extension": ".py",
   "mimetype": "text/x-python",
   "name": "python",
   "nbconvert_exporter": "python",
   "pygments_lexer": "ipython3",
   "version": "3.12.0"
  }
 },
 "nbformat": 4,
 "nbformat_minor": 5
}
